{
 "cells": [
  {
   "cell_type": "markdown",
   "id": "568a95f0",
   "metadata": {},
   "source": [
    "# Retrieval-Augmented Generation (RAG)"
   ]
  },
  {
   "cell_type": "code",
   "execution_count": 2,
   "id": "3b442449",
   "metadata": {},
   "outputs": [
    {
     "data": {
      "text/plain": [
       "True"
      ]
     },
     "execution_count": 2,
     "metadata": {},
     "output_type": "execute_result"
    }
   ],
   "source": [
    "import chromadb\n",
    "import dotenv\n",
    "from pathlib import Path\n",
    "from agents import Agent, Runner, function_tool, trace\n",
    "\n",
    "dotenv.load_dotenv()"
   ]
  },
  {
   "cell_type": "markdown",
   "id": "69af3322",
   "metadata": {},
   "source": [
    "Create a static calorie table that we can use as a tool:"
   ]
  },
  {
   "cell_type": "code",
   "execution_count": 8,
   "id": "5cd4f7ad",
   "metadata": {},
   "outputs": [],
   "source": [
    "# We populated the RAG with the data from the data/calories.csv file in\n",
    "# the rag_setup.ipynb notebook\n",
    "\n",
    "chroma_client = chromadb.PersistentClient(\"../chroma\")\n",
    "nutrition_db = chroma_client.get_collection(name=\"nutrition_db\")\n",
    "\n",
    "nutrition_qna = chroma_client.get_collection(\"nutrition_qna\")"
   ]
  },
  {
   "cell_type": "code",
   "execution_count": 4,
   "id": "aae53855",
   "metadata": {},
   "outputs": [
    {
     "name": "stdout",
     "output_type": "stream",
     "text": [
      "[('calories_per_100g', 89.0), ('food_category', 'fruits'), ('food_item', 'banana'), ('keywords', 'banana_fruits'), ('kj_per_100g', 374.0), ('serving_info', '100g')]\n",
      "Food: Banana\n",
      "        Category: Fruits\n",
      "        Nutritional Information:\n",
      "        - Calories: 89 per 100g\n",
      "        - Energy: 374 kJ per 100g\n",
      "        - Serving size reference: 100g\n",
      "\n",
      "        This is a fruits food item that provides 89 calories per 100 grams.\n",
      "\n",
      "\n",
      "[('calories_per_100g', 50.0), ('food_category', '(fruit)juices'), ('food_item', 'banana juice'), ('keywords', 'banana_juice_(fruit)juices'), ('kj_per_100g', 210.0), ('serving_info', '100ml')]\n",
      "Food: Banana Juice\n",
      "        Category: (Fruit)Juices\n",
      "        Nutritional Information:\n",
      "        - Calories: 50 per 100g\n",
      "        - Energy: 210 kJ per 100g\n",
      "        - Serving size reference: 100ml\n",
      "\n",
      "        This is a (fruit)juices food item that provides 50 calories per 100 grams.\n",
      "\n",
      "\n"
     ]
    }
   ],
   "source": [
    "results = nutrition_db.query(query_texts=[\"banana\"], n_results=2)\n",
    "for i, doc in enumerate(results[\"documents\"][0]):\n",
    "    print(sorted(results[\"metadatas\"][0][i].items()))\n",
    "    print(doc)\n",
    "    print(\"\\n\")"
   ]
  },
  {
   "cell_type": "code",
   "execution_count": 5,
   "id": "fe2a2850",
   "metadata": {},
   "outputs": [],
   "source": [
    "@function_tool\n",
    "def calorie_lookup_tool(query: str, max_results: int = 3) -> str:\n",
    "    \"\"\"\n",
    "    Tool function for a RAG database to look up calorie information for specific food items, but not for meals.\n",
    "\n",
    "    Args:\n",
    "        query: The food item to look up.\n",
    "        max_results: The maximum number of results to return.\n",
    "\n",
    "    Returns:\n",
    "        A string containing the nutrition information.\n",
    "    \"\"\"\n",
    "\n",
    "    results = nutrition_db.query(query_texts=[query], n_results=max_results)\n",
    "\n",
    "    if not results[\"documents\"][0]:\n",
    "        return f\"No nutrition information found for: {query}\"\n",
    "\n",
    "    # Format results for the agent\n",
    "    formatted_results = []\n",
    "    for i, doc in enumerate(results[\"documents\"][0]):\n",
    "        metadata = results[\"metadatas\"][0][i]\n",
    "        food_item = metadata[\"food_item\"].title()\n",
    "        calories = metadata[\"calories_per_100g\"]\n",
    "        category = metadata[\"food_category\"].title()\n",
    "\n",
    "        formatted_results.append(\n",
    "            f\"{food_item} ({category}): {calories} calories per 100g\"\n",
    "        )\n",
    "\n",
    "    return \"Nutrition Information:\\n\" + \"\\n\".join(formatted_results)"
   ]
  },
  {
   "cell_type": "code",
   "execution_count": 10,
   "id": "66270c11",
   "metadata": {},
   "outputs": [],
   "source": [
    "@function_tool\n",
    "def nutrition_qna_tool(query: str, max_results: int = 3) -> str:\n",
    "    \"\"\"\n",
    "    Tool function for a RAG database to answer any questions related to nutrition and pragnancy.\n",
    "\n",
    "    Args:\n",
    "        query: The question being asked.\n",
    "        max_results: The maximum number of results to return.\n",
    "\n",
    "    Returns:\n",
    "        A string containing the answer .\n",
    "    \"\"\"\n",
    "\n",
    "    results = nutrition_qna.query(query_texts=[query], n_results=max_results)\n",
    "\n",
    "    if not results[\"documents\"][0]:\n",
    "        return f\"No nutrition information found for: {query}\"\n",
    "\n",
    "    # Format results for the agent\n",
    "    formatted_results = []\n",
    "    for i, doc in enumerate(results[\"documents\"][0]):        \n",
    "        formatted_results.append(doc)\n",
    "\n",
    "    return \"The answer is :\\n\" + \"\\n\".join(formatted_results)"
   ]
  },
  {
   "cell_type": "markdown",
   "id": "c4507cd1",
   "metadata": {},
   "source": [
    "Let's test this out: \n",
    "\n",
    "_The following cell only works before you add the `@function_tool` annotation to `calorie_lookup_tool` function_"
   ]
  },
  {
   "cell_type": "code",
   "execution_count": null,
   "id": "3f07cbdb",
   "metadata": {},
   "outputs": [],
   "source": [
    "# calorie_lookup_tool('bananas')"
   ]
  },
  {
   "cell_type": "code",
   "execution_count": 11,
   "id": "1fe172e2",
   "metadata": {},
   "outputs": [],
   "source": [
    "calorie_agent = Agent(\n",
    "    name=\"Nutrition Assistant\",\n",
    "    instructions=\"\"\"\n",
    "    You are a helpful assistant giving out calorie information and nutrition advice.\n",
    "    You give concise answers.\n",
    "    If you need to look up calorie information, use the calorie_lookup_tool.\n",
    "    If are asked a question about nutrition, always use the nutrtition_qna_tool first to see if there is an answer in the knowledge base.    \n",
    "    \"\"\",\n",
    "    tools=[calorie_lookup_tool , nutrition_qna_tool],\n",
    ")"
   ]
  },
  {
   "cell_type": "code",
   "execution_count": 14,
   "id": "1705b2fc",
   "metadata": {},
   "outputs": [
    {
     "name": "stdout",
     "output_type": "stream",
     "text": [
      "Key ideas:\n",
      "- Focus on iron-rich foods (lean red meat, poultry, fish, beans, lentils, fortified cereals, spinach), folate-rich foods (leafy greens, citrus, fortified grains), calcium (dairy or fortified non-dairy), adequate protein, and plenty of fruits, vegetables, and whole grains.\n",
      "- Add about 200 extra calories per day (varies by trimester and individual needs).\n",
      "\n",
      "Sample meal choices (with general calories):\n",
      "- Iron-rich lunch: Lentil and spinach curry with brown rice (about 400–500 kcal)\n",
      "- Protein-rich snack: Greek yogurt with berries (about 150–200 kcal)\n",
      "- Calcium-rich option: Fortified yogurt smoothie with milk and a small handful of almonds (about 250–300 kcal)\n",
      "- Balanced dinner: Grilled chicken or tofu, quinoa, steamed veggies (about 500–600 kcal)\n",
      "\n",
      "If you want specific meals with exact calorie counts, tell me the foods you like and I can look up precise values.\n"
     ]
    }
   ],
   "source": [
    "with trace(\"Calories and Nutrition Assistant with RAG\"):\n",
    "    result = await Runner.run(\n",
    "        calorie_agent,\n",
    "        \"What are the best meal choices for pregnant women and how many calories do they have?\",\n",
    "    )\n",
    "    print(result.final_output)"
   ]
  }
 ],
 "metadata": {
  "kernelspec": {
   "display_name": "Python 3",
   "language": "python",
   "name": "python3"
  },
  "language_info": {
   "codemirror_mode": {
    "name": "ipython",
    "version": 3
   },
   "file_extension": ".py",
   "mimetype": "text/x-python",
   "name": "python",
   "nbconvert_exporter": "python",
   "pygments_lexer": "ipython3",
   "version": "3.13.5"
  }
 },
 "nbformat": 4,
 "nbformat_minor": 5
}
