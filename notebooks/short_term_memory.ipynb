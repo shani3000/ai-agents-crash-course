{
 "cells": [
  {
   "cell_type": "markdown",
   "id": "6d4e6275",
   "metadata": {},
   "source": [
    "# Short-Term Memory"
   ]
  },
  {
   "cell_type": "code",
   "execution_count": 2,
   "id": "64562644",
   "metadata": {},
   "outputs": [
    {
     "data": {
      "text/plain": [
       "True"
      ]
     },
     "execution_count": 2,
     "metadata": {},
     "output_type": "execute_result"
    }
   ],
   "source": [
    "import dotenv\n",
    "from agents import Agent, Runner, SQLiteSession, trace\n",
    "\n",
    "dotenv.load_dotenv()"
   ]
  },
  {
   "cell_type": "code",
   "execution_count": 3,
   "id": "c001bd3d",
   "metadata": {},
   "outputs": [],
   "source": [
    "nutrition_agent = Agent(\n",
    "    name=\"Nutrition Assistant\",\n",
    "    instructions=\"\"\"\n",
    "    You are a helpful assistant comparing how healthy different foods are.\n",
    "    If you answer, give a list of how healthy the foods are with a score from 1 to 10. Order by: healtiest food comes first.\n",
    "\n",
    "    Example:\n",
    "    Q: Compare X and Y\n",
    "    A: X is healtier as Y.\n",
    "    1) X: 8/10 - Very healthy but high in fructose\n",
    "    2) Y: 3/10 - High in sugar and fat\n",
    "    \"\"\",\n",
    ")"
   ]
  },
  {
   "cell_type": "markdown",
   "id": "6277cab0",
   "metadata": {},
   "source": [
    "## No Memory"
   ]
  },
  {
   "cell_type": "code",
   "execution_count": 4,
   "id": "900dec71",
   "metadata": {},
   "outputs": [
    {
     "name": "stdout",
     "output_type": "stream",
     "text": [
      "1) Bananas: 7/10 - Rich in potassium, fiber, and vitamins; natural sugars but whole fruit.\n",
      "2) Lollipop: 2/10 - Mainly added sugar; little nutrition.\n"
     ]
    }
   ],
   "source": [
    "result = await Runner.run(nutrition_agent, \"Which is healthier, bananas or lollipop?\")\n",
    "print(result.final_output)"
   ]
  },
  {
   "cell_type": "code",
   "execution_count": 5,
   "id": "aec2127a",
   "metadata": {},
   "outputs": [
    {
     "name": "stdout",
     "output_type": "stream",
     "text": [
      "Which foods should apples be compared to? Please list the other food(s). If you want, I can compare apples to common options like bananas, oranges, carrots, and almonds.\n"
     ]
    }
   ],
   "source": [
    "result = await Runner.run(nutrition_agent, \"Add apples to the comparison\")\n",
    "print(result.final_output)"
   ]
  },
  {
   "cell_type": "markdown",
   "id": "f863cbce",
   "metadata": {},
   "source": [
    "## Short Term Memory"
   ]
  },
  {
   "cell_type": "code",
   "execution_count": 11,
   "id": "f220f82d",
   "metadata": {},
   "outputs": [],
   "source": [
    "session = SQLiteSession(\"conversation_history\")"
   ]
  },
  {
   "cell_type": "code",
   "execution_count": 12,
   "id": "8b748be6",
   "metadata": {},
   "outputs": [
    {
     "name": "stdout",
     "output_type": "stream",
     "text": [
      "1) Bananas: 8/10 - Nutritious fruit with potassium, fiber, and vitamins; natural sugars but more wholesome overall.\n",
      "2) Lollipops: 2/10 - Mostly sugar with no nutrients; empty calories and potential dental issues.\n"
     ]
    }
   ],
   "source": [
    "result = await Runner.run(\n",
    "    nutrition_agent, \"Which is healthier, bananas or lollipop?\" , session=session\n",
    ")\n",
    "print(result.final_output)"
   ]
  },
  {
   "cell_type": "code",
   "execution_count": 14,
   "id": "371995c0",
   "metadata": {},
   "outputs": [
    {
     "name": "stdout",
     "output_type": "stream",
     "text": [
      "1) Bananas: 8/10 - Nutritious fruit with potassium, fiber, and vitamins; natural sugars but wholesome overall.\n",
      "2) Apples: 7/10 - Good fiber and vitamin C; lower calories than bananas, but still has natural sugars.\n",
      "3) Lollipops: 2/10 - Mostly sugar with no nutrients; empty calories and potential dental issues.\n"
     ]
    }
   ],
   "source": [
    "with trace(\"Simple Nutrition Agent\"):\n",
    "    result = await Runner.run(\n",
    "        nutrition_agent, \"Add apples to the comparison\" , session = session\n",
    "    )\n",
    "\n",
    "print(result.final_output)"
   ]
  }
 ],
 "metadata": {
  "kernelspec": {
   "display_name": "Python 3",
   "language": "python",
   "name": "python3"
  },
  "language_info": {
   "codemirror_mode": {
    "name": "ipython",
    "version": 3
   },
   "file_extension": ".py",
   "mimetype": "text/x-python",
   "name": "python",
   "nbconvert_exporter": "python",
   "pygments_lexer": "ipython3",
   "version": "3.13.5"
  }
 },
 "nbformat": 4,
 "nbformat_minor": 5
}
