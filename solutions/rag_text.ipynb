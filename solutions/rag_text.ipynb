{
 "cells": [
  {
   "cell_type": "markdown",
   "id": "568a95f0",
   "metadata": {},
   "source": [
    "# RAG Exercise Solution"
   ]
  },
  {
   "cell_type": "code",
   "execution_count": 1,
   "id": "3b442449",
   "metadata": {},
   "outputs": [
    {
     "data": {
      "text/plain": [
       "True"
      ]
     },
     "execution_count": 1,
     "metadata": {},
     "output_type": "execute_result"
    }
   ],
   "source": [
    "import dotenv\n",
    "\n",
    "from agents import Agent, Runner, trace, function_tool\n",
    "\n",
    "import chromadb\n",
    "\n",
    "dotenv.load_dotenv()"
   ]
  },
  {
   "cell_type": "markdown",
   "id": "69af3322",
   "metadata": {},
   "source": [
    "Create a static calorie table that we can use as a tool:"
   ]
  },
  {
   "cell_type": "code",
   "execution_count": null,
   "id": "5cd4f7ad",
   "metadata": {},
   "outputs": [],
   "source": [
    "# We populated the RAG with the data from the data/calories.csv file in the rag_setup.ipynb notebook\n",
    "\n",
    "chroma_client = chromadb.PersistentClient(path=\"../chroma\")\n",
    "calories_db = chroma_client.get_collection(name=\"nutrition_db\")\n",
    "nuntrition_qna_db = chroma_client.get_collection(name=\"nutrition_qna\")\n",
    "\n",
    "nutrition_qna = chroma_client.get_collection(\"nutrition_qna\")"
   ]
  },
  {
   "cell_type": "code",
   "execution_count": null,
   "id": "fe2a2850",
   "metadata": {},
   "outputs": [],
   "source": [
    "@function_tool\n",
    "def calorie_lookup_tool(query: str, max_results: int = 3) -> str:\n",
    "    \"\"\"\n",
    "    Tool function too look up calorie information.\n",
    "\n",
    "    Args:\n",
    "        query: The food item to look up.\n",
    "        max_results: The maximum number of results to return.\n",
    "\n",
    "    Returns:\n",
    "        A string containing the nutrition information.\n",
    "    \"\"\"\n",
    "\n",
    "    results = calories_db.query(query_texts=[query], n_results=max_results)\n",
    "\n",
    "    if not results[\"documents\"][0]:\n",
    "        return f\"No nutrition information found for: {query}\"\n",
    "\n",
    "    # Format results for the agent\n",
    "    formatted_results = []\n",
    "    for i, doc in enumerate(results[\"documents\"][0]):\n",
    "        metadata = results[\"metadatas\"][0][i]\n",
    "        food_item = metadata[\"food_item\"].title()\n",
    "        calories = metadata[\"calories_per_100g\"]\n",
    "        category = metadata[\"food_category\"].title()\n",
    "\n",
    "        formatted_results.append(\n",
    "            f\"{food_item} ({category}): {calories} calories per 100g\"\n",
    "        )\n",
    "\n",
    "    return \"Nutrition Information:\\n\" + \"\\n\".join(formatted_results)\n",
    "\n",
    "\n",
    "@function_tool\n",
    "def nutrtition_qna_tool(query: str, max_results: int = 3) -> str:\n",
    "    \"\"\"\n",
    "    Tool function too ask a question about nutrition.\n",
    "\n",
    "    Args:\n",
    "        query: The question to ask\n",
    "        max_results: The maximum number of results to return.\n",
    "\n",
    "    Returns:\n",
    "        A string containing the question and the answer related to the query.\n",
    "    \"\"\"\n",
    "\n",
    "    results = nuntrition_qna_db.query(query_texts=[query], n_results=max_results)\n",
    "\n",
    "    if not results[\"documents\"][0]:\n",
    "        return f\"No information found for: {query}\"\n",
    "\n",
    "    # Format results for the agent\n",
    "    formatted_results = []\n",
    "    for i, doc in enumerate(results[\"documents\"][0]):\n",
    "        formatted_results.append(doc)\n",
    "\n",
    "    return \"Related answers to your question:\\n\" + \"\\n\".join(formatted_results)"
   ]
  },
  {
   "cell_type": "code",
   "execution_count": 4,
   "id": "1fe172e2",
   "metadata": {},
   "outputs": [],
   "source": [
    "calorie_agent = Agent(\n",
    "    name=\"Nutrition Assistant\",\n",
    "    instructions=\"\"\"\n",
    "    You are a helpful nutrition assistant giving out calorie information and nutrtion advice    .\n",
    "    You give concise answers.\n",
    "    \n",
    "    If you need to look up calorie information, use the calorie_lookup_tool.\n",
    "    If are asked a question about nutrition, always use the nutrtition_qna_tool first to see if there is an answer in the knowledge base.\n",
    "    \"\"\",\n",
    "    tools=[calorie_lookup_tool, nutrtition_qna_tool],\n",
    ")"
   ]
  },
  {
   "cell_type": "code",
   "execution_count": 6,
   "id": "1705b2fc",
   "metadata": {},
   "outputs": [
    {
     "name": "stdout",
     "output_type": "stream",
     "text": [
      "Question: What additional nutritional requirements are there for pregnant women?\n",
      "        Answer: In addition to a balanced diet, pregnant women need to ensure they consume enough iron-rich foods and consider adding an extra meal of around 200 calories per day.\n",
      "\n",
      "        This Q&A pair provides information about nutrition and health topics.\n",
      "Question: What are the recommended dietary modifications during pregnancy?\n",
      "        Answer: During pregnancy, women should prioritize consuming more foods that are rich in nutrients and iron. They may also need to add an extra meal of around 200 calories per day to their diet.\n",
      "\n",
      "        This Q&A pair provides information about nutrition and health topics.\n",
      "Question: What kinds of food are important for pregnant ladies?\n",
      "        Answer: Pregnant women need extra foods, especially those that are good sources of iron. They also need at least one additional meal (200 Kcal) per day during the pregnancy and should cut down their energy expenditure.\n",
      "\n",
      "        This Q&A pair provides information about nutrition and health topics.\n",
      "Here’s a concise guide based on the available information:\n",
      "\n",
      "Best meal choices\n",
      "- Iron-rich foods: lean meat, poultry, fish (low-mercury), eggs, beans, lentils, fortified cereals/spinach.\n",
      "- Calcium-rich foods: milk/dairy or fortified plant milks, yogurt, cheese.\n",
      "- Folate-rich foods: leafy greens, citrus fruits, beans, fortified grains.\n",
      "- Omega-3 sources: fatty fish (low-mercury like salmon), flaxseeds, walnuts.\n",
      "- Whole grains, colorful fruits/vegetables, lean proteins (chicken, tofu, legumes).\n",
      "- Hydration and prenatal vitamins as advised by your provider.\n",
      "\n",
      "Calorie guidance\n",
      "- As a reference, about an extra 200 kcal per day is suggested in some guidance. Needs vary by trimester and individual. Follow your clinician’s plan and use nutrient-dense foods to meet increased needs.\n",
      "\n",
      "If you want, I can look up calories for specific foods you’re considering.\n"
     ]
    }
   ],
   "source": [
    "with trace(\"Nutrition Assistant with Nutrition and Calorie RAG\"):\n",
    "    result = await Runner.run(\n",
    "        calorie_agent,\n",
    "        \"What are the best meal choices for pregnant women and how many calories do they have?\",\n",
    "    )\n",
    "    print(result.final_output)"
   ]
  }
 ],
 "metadata": {
  "kernelspec": {
   "display_name": "Python 3",
   "language": "python",
   "name": "python3"
  },
  "language_info": {
   "codemirror_mode": {
    "name": "ipython",
    "version": 3
   },
   "file_extension": ".py",
   "mimetype": "text/x-python",
   "name": "python",
   "nbconvert_exporter": "python",
   "pygments_lexer": "ipython3",
   "version": "3.13.5"
  }
 },
 "nbformat": 4,
 "nbformat_minor": 5
}
